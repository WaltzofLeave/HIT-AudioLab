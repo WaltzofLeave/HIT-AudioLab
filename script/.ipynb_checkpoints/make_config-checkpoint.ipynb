{
 "cells": [
  {
   "cell_type": "code",
   "execution_count": 1,
   "metadata": {},
   "outputs": [],
   "source": [
    "names = ['kaiji','zuozhuan','youzhuan','qianjin','houtui']\n"
   ]
  },
  {
   "cell_type": "code",
   "execution_count": 3,
   "metadata": {},
   "outputs": [
    {
     "name": "stdout",
     "output_type": "stream",
     "text": [
      " 驱动器 C 中的卷是 OS\n",
      " 卷的序列号是 D072-C426\n",
      "\n",
      " C:\\Users\\DELL\\Desktop\\temp\\script 的目录\n",
      "\n",
      "2021/01/10  18:31    <DIR>          .\n",
      "2021/01/10  18:31    <DIR>          ..\n",
      "2021/01/10  18:31    <DIR>          .ipynb_checkpoints\n",
      "2021/01/10  18:31                72 make_config.ipynb\n",
      "               1 个文件             72 字节\n",
      "               3 个目录 10,786,824,192 可用字节\n"
     ]
    }
   ],
   "source": []
  },
  {
   "cell_type": "code",
   "execution_count": 14,
   "metadata": {},
   "outputs": [],
   "source": [
    "path = 'C:\\\\Users\\\\DELL\\\\Desktop\\\\temp\\\\'\n",
    "origpath = path + 'orig\\\\'\n",
    "destpath = path + 'pattern\\\\'"
   ]
  },
  {
   "cell_type": "code",
   "execution_count": 21,
   "metadata": {},
   "outputs": [
    {
     "name": "stdout",
     "output_type": "stream",
     "text": [
      "['C:\\\\Users\\\\DELL\\\\Desktop\\\\temp\\\\orig\\\\kaiji.wav', 'C:\\\\Users\\\\DELL\\\\Desktop\\\\temp\\\\orig\\\\kaiji1.wav', 'C:\\\\Users\\\\DELL\\\\Desktop\\\\temp\\\\orig\\\\kaiji2.wav', 'C:\\\\Users\\\\DELL\\\\Desktop\\\\temp\\\\orig\\\\kaiji3.wav', 'C:\\\\Users\\\\DELL\\\\Desktop\\\\temp\\\\orig\\\\kaiji4.wav', 'C:\\\\Users\\\\DELL\\\\Desktop\\\\temp\\\\orig\\\\kaiji5.wav', 'C:\\\\Users\\\\DELL\\\\Desktop\\\\temp\\\\orig\\\\kaiji6.wav', 'C:\\\\Users\\\\DELL\\\\Desktop\\\\temp\\\\orig\\\\kaiji7.wav', 'C:\\\\Users\\\\DELL\\\\Desktop\\\\temp\\\\orig\\\\kaiji8.wav', 'C:\\\\Users\\\\DELL\\\\Desktop\\\\temp\\\\orig\\\\kaiji9.wav', 'C:\\\\Users\\\\DELL\\\\Desktop\\\\temp\\\\orig\\\\kaiji10.wav', 'C:\\\\Users\\\\DELL\\\\Desktop\\\\temp\\\\orig\\\\zuozhuan.wav', 'C:\\\\Users\\\\DELL\\\\Desktop\\\\temp\\\\orig\\\\zuozhuan1.wav', 'C:\\\\Users\\\\DELL\\\\Desktop\\\\temp\\\\orig\\\\zuozhuan2.wav', 'C:\\\\Users\\\\DELL\\\\Desktop\\\\temp\\\\orig\\\\zuozhuan3.wav', 'C:\\\\Users\\\\DELL\\\\Desktop\\\\temp\\\\orig\\\\zuozhuan4.wav', 'C:\\\\Users\\\\DELL\\\\Desktop\\\\temp\\\\orig\\\\zuozhuan5.wav', 'C:\\\\Users\\\\DELL\\\\Desktop\\\\temp\\\\orig\\\\zuozhuan6.wav', 'C:\\\\Users\\\\DELL\\\\Desktop\\\\temp\\\\orig\\\\zuozhuan7.wav', 'C:\\\\Users\\\\DELL\\\\Desktop\\\\temp\\\\orig\\\\zuozhuan8.wav', 'C:\\\\Users\\\\DELL\\\\Desktop\\\\temp\\\\orig\\\\zuozhuan9.wav', 'C:\\\\Users\\\\DELL\\\\Desktop\\\\temp\\\\orig\\\\zuozhuan10.wav', 'C:\\\\Users\\\\DELL\\\\Desktop\\\\temp\\\\orig\\\\youzhuan.wav', 'C:\\\\Users\\\\DELL\\\\Desktop\\\\temp\\\\orig\\\\youzhuan1.wav', 'C:\\\\Users\\\\DELL\\\\Desktop\\\\temp\\\\orig\\\\youzhuan2.wav', 'C:\\\\Users\\\\DELL\\\\Desktop\\\\temp\\\\orig\\\\youzhuan3.wav', 'C:\\\\Users\\\\DELL\\\\Desktop\\\\temp\\\\orig\\\\youzhuan4.wav', 'C:\\\\Users\\\\DELL\\\\Desktop\\\\temp\\\\orig\\\\youzhuan5.wav', 'C:\\\\Users\\\\DELL\\\\Desktop\\\\temp\\\\orig\\\\youzhuan6.wav', 'C:\\\\Users\\\\DELL\\\\Desktop\\\\temp\\\\orig\\\\youzhuan7.wav', 'C:\\\\Users\\\\DELL\\\\Desktop\\\\temp\\\\orig\\\\youzhuan8.wav', 'C:\\\\Users\\\\DELL\\\\Desktop\\\\temp\\\\orig\\\\youzhuan9.wav', 'C:\\\\Users\\\\DELL\\\\Desktop\\\\temp\\\\orig\\\\youzhuan10.wav', 'C:\\\\Users\\\\DELL\\\\Desktop\\\\temp\\\\orig\\\\qianjin.wav', 'C:\\\\Users\\\\DELL\\\\Desktop\\\\temp\\\\orig\\\\qianjin1.wav', 'C:\\\\Users\\\\DELL\\\\Desktop\\\\temp\\\\orig\\\\qianjin2.wav', 'C:\\\\Users\\\\DELL\\\\Desktop\\\\temp\\\\orig\\\\qianjin3.wav', 'C:\\\\Users\\\\DELL\\\\Desktop\\\\temp\\\\orig\\\\qianjin4.wav', 'C:\\\\Users\\\\DELL\\\\Desktop\\\\temp\\\\orig\\\\qianjin5.wav', 'C:\\\\Users\\\\DELL\\\\Desktop\\\\temp\\\\orig\\\\qianjin6.wav', 'C:\\\\Users\\\\DELL\\\\Desktop\\\\temp\\\\orig\\\\qianjin7.wav', 'C:\\\\Users\\\\DELL\\\\Desktop\\\\temp\\\\orig\\\\qianjin8.wav', 'C:\\\\Users\\\\DELL\\\\Desktop\\\\temp\\\\orig\\\\qianjin9.wav', 'C:\\\\Users\\\\DELL\\\\Desktop\\\\temp\\\\orig\\\\qianjin10.wav', 'C:\\\\Users\\\\DELL\\\\Desktop\\\\temp\\\\orig\\\\houtui.wav', 'C:\\\\Users\\\\DELL\\\\Desktop\\\\temp\\\\orig\\\\houtui1.wav', 'C:\\\\Users\\\\DELL\\\\Desktop\\\\temp\\\\orig\\\\houtui2.wav', 'C:\\\\Users\\\\DELL\\\\Desktop\\\\temp\\\\orig\\\\houtui3.wav', 'C:\\\\Users\\\\DELL\\\\Desktop\\\\temp\\\\orig\\\\houtui4.wav', 'C:\\\\Users\\\\DELL\\\\Desktop\\\\temp\\\\orig\\\\houtui5.wav', 'C:\\\\Users\\\\DELL\\\\Desktop\\\\temp\\\\orig\\\\houtui6.wav', 'C:\\\\Users\\\\DELL\\\\Desktop\\\\temp\\\\orig\\\\houtui7.wav', 'C:\\\\Users\\\\DELL\\\\Desktop\\\\temp\\\\orig\\\\houtui8.wav', 'C:\\\\Users\\\\DELL\\\\Desktop\\\\temp\\\\orig\\\\houtui9.wav', 'C:\\\\Users\\\\DELL\\\\Desktop\\\\temp\\\\orig\\\\houtui10.wav']\n",
      "['C:\\\\Users\\\\DELL\\\\Desktop\\\\temp\\\\pattern\\\\kaiji.mfc', 'C:\\\\Users\\\\DELL\\\\Desktop\\\\temp\\\\pattern\\\\kaiji1.mfc', 'C:\\\\Users\\\\DELL\\\\Desktop\\\\temp\\\\pattern\\\\kaiji2.mfc', 'C:\\\\Users\\\\DELL\\\\Desktop\\\\temp\\\\pattern\\\\kaiji3.mfc', 'C:\\\\Users\\\\DELL\\\\Desktop\\\\temp\\\\pattern\\\\kaiji4.mfc', 'C:\\\\Users\\\\DELL\\\\Desktop\\\\temp\\\\pattern\\\\kaiji5.mfc', 'C:\\\\Users\\\\DELL\\\\Desktop\\\\temp\\\\pattern\\\\kaiji6.mfc', 'C:\\\\Users\\\\DELL\\\\Desktop\\\\temp\\\\pattern\\\\kaiji7.mfc', 'C:\\\\Users\\\\DELL\\\\Desktop\\\\temp\\\\pattern\\\\kaiji8.mfc', 'C:\\\\Users\\\\DELL\\\\Desktop\\\\temp\\\\pattern\\\\kaiji9.mfc', 'C:\\\\Users\\\\DELL\\\\Desktop\\\\temp\\\\pattern\\\\kaiji10.mfc', 'C:\\\\Users\\\\DELL\\\\Desktop\\\\temp\\\\pattern\\\\zuozhuan.mfc', 'C:\\\\Users\\\\DELL\\\\Desktop\\\\temp\\\\pattern\\\\zuozhuan1.mfc', 'C:\\\\Users\\\\DELL\\\\Desktop\\\\temp\\\\pattern\\\\zuozhuan2.mfc', 'C:\\\\Users\\\\DELL\\\\Desktop\\\\temp\\\\pattern\\\\zuozhuan3.mfc', 'C:\\\\Users\\\\DELL\\\\Desktop\\\\temp\\\\pattern\\\\zuozhuan4.mfc', 'C:\\\\Users\\\\DELL\\\\Desktop\\\\temp\\\\pattern\\\\zuozhuan5.mfc', 'C:\\\\Users\\\\DELL\\\\Desktop\\\\temp\\\\pattern\\\\zuozhuan6.mfc', 'C:\\\\Users\\\\DELL\\\\Desktop\\\\temp\\\\pattern\\\\zuozhuan7.mfc', 'C:\\\\Users\\\\DELL\\\\Desktop\\\\temp\\\\pattern\\\\zuozhuan8.mfc', 'C:\\\\Users\\\\DELL\\\\Desktop\\\\temp\\\\pattern\\\\zuozhuan9.mfc', 'C:\\\\Users\\\\DELL\\\\Desktop\\\\temp\\\\pattern\\\\zuozhuan10.mfc', 'C:\\\\Users\\\\DELL\\\\Desktop\\\\temp\\\\pattern\\\\youzhuan.mfc', 'C:\\\\Users\\\\DELL\\\\Desktop\\\\temp\\\\pattern\\\\youzhuan1.mfc', 'C:\\\\Users\\\\DELL\\\\Desktop\\\\temp\\\\pattern\\\\youzhuan2.mfc', 'C:\\\\Users\\\\DELL\\\\Desktop\\\\temp\\\\pattern\\\\youzhuan3.mfc', 'C:\\\\Users\\\\DELL\\\\Desktop\\\\temp\\\\pattern\\\\youzhuan4.mfc', 'C:\\\\Users\\\\DELL\\\\Desktop\\\\temp\\\\pattern\\\\youzhuan5.mfc', 'C:\\\\Users\\\\DELL\\\\Desktop\\\\temp\\\\pattern\\\\youzhuan6.mfc', 'C:\\\\Users\\\\DELL\\\\Desktop\\\\temp\\\\pattern\\\\youzhuan7.mfc', 'C:\\\\Users\\\\DELL\\\\Desktop\\\\temp\\\\pattern\\\\youzhuan8.mfc', 'C:\\\\Users\\\\DELL\\\\Desktop\\\\temp\\\\pattern\\\\youzhuan9.mfc', 'C:\\\\Users\\\\DELL\\\\Desktop\\\\temp\\\\pattern\\\\youzhuan10.mfc', 'C:\\\\Users\\\\DELL\\\\Desktop\\\\temp\\\\pattern\\\\qianjin.mfc', 'C:\\\\Users\\\\DELL\\\\Desktop\\\\temp\\\\pattern\\\\qianjin1.mfc', 'C:\\\\Users\\\\DELL\\\\Desktop\\\\temp\\\\pattern\\\\qianjin2.mfc', 'C:\\\\Users\\\\DELL\\\\Desktop\\\\temp\\\\pattern\\\\qianjin3.mfc', 'C:\\\\Users\\\\DELL\\\\Desktop\\\\temp\\\\pattern\\\\qianjin4.mfc', 'C:\\\\Users\\\\DELL\\\\Desktop\\\\temp\\\\pattern\\\\qianjin5.mfc', 'C:\\\\Users\\\\DELL\\\\Desktop\\\\temp\\\\pattern\\\\qianjin6.mfc', 'C:\\\\Users\\\\DELL\\\\Desktop\\\\temp\\\\pattern\\\\qianjin7.mfc', 'C:\\\\Users\\\\DELL\\\\Desktop\\\\temp\\\\pattern\\\\qianjin8.mfc', 'C:\\\\Users\\\\DELL\\\\Desktop\\\\temp\\\\pattern\\\\qianjin9.mfc', 'C:\\\\Users\\\\DELL\\\\Desktop\\\\temp\\\\pattern\\\\qianjin10.mfc', 'C:\\\\Users\\\\DELL\\\\Desktop\\\\temp\\\\pattern\\\\houtui.mfc', 'C:\\\\Users\\\\DELL\\\\Desktop\\\\temp\\\\pattern\\\\houtui1.mfc', 'C:\\\\Users\\\\DELL\\\\Desktop\\\\temp\\\\pattern\\\\houtui2.mfc', 'C:\\\\Users\\\\DELL\\\\Desktop\\\\temp\\\\pattern\\\\houtui3.mfc', 'C:\\\\Users\\\\DELL\\\\Desktop\\\\temp\\\\pattern\\\\houtui4.mfc', 'C:\\\\Users\\\\DELL\\\\Desktop\\\\temp\\\\pattern\\\\houtui5.mfc', 'C:\\\\Users\\\\DELL\\\\Desktop\\\\temp\\\\pattern\\\\houtui6.mfc', 'C:\\\\Users\\\\DELL\\\\Desktop\\\\temp\\\\pattern\\\\houtui7.mfc', 'C:\\\\Users\\\\DELL\\\\Desktop\\\\temp\\\\pattern\\\\houtui8.mfc', 'C:\\\\Users\\\\DELL\\\\Desktop\\\\temp\\\\pattern\\\\houtui9.mfc', 'C:\\\\Users\\\\DELL\\\\Desktop\\\\temp\\\\pattern\\\\houtui10.mfc']\n"
     ]
    }
   ],
   "source": [
    "origs = []\n",
    "dests = []\n",
    "for name in names:\n",
    "    origs.append(origpath + name + '.wav')\n",
    "    dests.append(destpath + name + '.mfc')\n",
    "    for i in range(1,11):\n",
    "        origs.append(origpath + name + str(i) + '.wav')\n",
    "        dests.append(destpath + name + str(i) + '.mfc')\n",
    "print(origs)\n",
    "print(dests)\n",
    "s = len(origs)\n",
    "with open('list.scp','w') as f:\n",
    "    for i in range(0,s):\n",
    "        f.write(origs[i] + ' ' + dests[i] + '\\n')\n"
   ]
  },
  {
   "cell_type": "code",
   "execution_count": 56,
   "metadata": {},
   "outputs": [
    {
     "name": "stdout",
     "output_type": "stream",
     "text": [
      "(-5.620355606079102,)\n",
      "(3.7527883052825928,)\n",
      "(-2.052428960800171,)\n",
      "(5.730226516723633,)\n",
      "(0.8456563353538513,)\n",
      "(3.780649185180664,)\n",
      "(-0.98033607006073,)\n",
      "(1.8066954612731934,)\n",
      "(2.1543221473693848,)\n",
      "(7.577212333679199,)\n",
      "(7.574590682983398,)\n",
      "(5.055095672607422,)\n",
      "(-0.15129253268241882,)\n",
      "(-0.0006746292347088456,)\n",
      "(-0.04520489647984505,)\n",
      "(-0.2687646746635437,)\n",
      "(-0.30900564789772034,)\n",
      "(0.23351508378982544,)\n",
      "(0.5981701612472534,)\n",
      "(0.5843724608421326,)\n",
      "(1.2637298107147217,)\n",
      "(0.24763715267181396,)\n",
      "(-1.729703426361084,)\n",
      "(-1.4812517166137695,)\n",
      "(-1.5138282775878906,)\n",
      "(0.0,)\n",
      "(0.0575779527425766,)\n",
      "(0.11103741824626923,)\n",
      "(0.03794737160205841,)\n",
      "(0.041249215602874756,)\n",
      "(0.229486882686615,)\n",
      "(-0.0343773253262043,)\n",
      "(-0.031871698796749115,)\n",
      "(-0.5120096802711487,)\n",
      "(-0.05518954247236252,)\n",
      "(0.3218383193016052,)\n",
      "(0.24350735545158386,)\n",
      "(0.10031574964523315,)\n",
      "(0.0,)\n"
     ]
    }
   ],
   "source": [
    "import struct\n",
    "testfile = destpath + 'kaiji.mfc'\n",
    "testfile1 = destpath + 'kaiji2.mfc'\n",
    "\n",
    "def getint(a):\n",
    "    return int.from_bytes(a , byteorder='big', signed=True)\n",
    "def getfloat(a):\n",
    "    return struct.unpack('>f',a)\n",
    "def getdata(filename):\n",
    "    with open(testfile,'rb') as f:\n",
    "        nframes = getint(f.read(4))\n",
    "        frate  = getint(f.read(4))\n",
    "        nbytes = getint(f.read(2))\n",
    "        feakind = getint(f.read(2))\n",
    "        num = nbytes // 4\n",
    "        data = []\n",
    "        for i in range(0,num):\n",
    "            data.append(getfloat(f.read(4)))\n",
    "    return data\n",
    "\n",
    "getdata(testfile)\n",
    "data = getdata(testfile1)\n",
    "for data in data:\n",
    "    print(data)"
   ]
  },
  {
   "cell_type": "code",
   "execution_count": null,
   "metadata": {},
   "outputs": [],
   "source": []
  }
 ],
 "metadata": {
  "kernelspec": {
   "display_name": "Python 3",
   "language": "python",
   "name": "python3"
  },
  "language_info": {
   "codemirror_mode": {
    "name": "ipython",
    "version": 3
   },
   "file_extension": ".py",
   "mimetype": "text/x-python",
   "name": "python",
   "nbconvert_exporter": "python",
   "pygments_lexer": "ipython3",
   "version": "3.8.3"
  }
 },
 "nbformat": 4,
 "nbformat_minor": 4
}
